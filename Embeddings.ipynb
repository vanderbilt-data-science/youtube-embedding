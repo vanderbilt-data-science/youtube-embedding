{
 "cells": [
  {
   "cell_type": "code",
   "execution_count": 3,
   "metadata": {},
   "outputs": [
    {
     "name": "stdout",
     "output_type": "stream",
     "text": [
      "Requirement already up-to-date: sentence-transformers in c:\\users\\sovann\\anaconda3\\lib\\site-packages (2.2.0)\n",
      "Requirement already satisfied, skipping upgrade: scikit-learn in c:\\users\\sovann\\anaconda3\\lib\\site-packages (from sentence-transformers) (0.22.1)\n",
      "Requirement already satisfied, skipping upgrade: transformers<5.0.0,>=4.6.0 in c:\\users\\sovann\\anaconda3\\lib\\site-packages (from sentence-transformers) (4.17.0)\n",
      "Requirement already satisfied, skipping upgrade: sentencepiece in c:\\users\\sovann\\anaconda3\\lib\\site-packages (from sentence-transformers) (0.1.96)\n",
      "Requirement already satisfied, skipping upgrade: scipy in c:\\users\\sovann\\anaconda3\\lib\\site-packages (from sentence-transformers) (1.4.1)\n",
      "Requirement already satisfied, skipping upgrade: tqdm in c:\\users\\sovann\\anaconda3\\lib\\site-packages (from sentence-transformers) (4.42.1)\n",
      "Requirement already satisfied, skipping upgrade: nltk in c:\\users\\sovann\\anaconda3\\lib\\site-packages (from sentence-transformers) (3.4.5)\n",
      "Requirement already satisfied, skipping upgrade: torchvision in c:\\users\\sovann\\anaconda3\\lib\\site-packages (from sentence-transformers) (0.12.0)\n",
      "Requirement already satisfied, skipping upgrade: huggingface-hub in c:\\users\\sovann\\anaconda3\\lib\\site-packages (from sentence-transformers) (0.4.0)\n",
      "Requirement already satisfied, skipping upgrade: torch>=1.6.0 in c:\\users\\sovann\\anaconda3\\lib\\site-packages (from sentence-transformers) (1.11.0)\n",
      "Requirement already satisfied, skipping upgrade: numpy in c:\\users\\sovann\\anaconda3\\lib\\site-packages (from sentence-transformers) (1.18.1)\n",
      "Requirement already satisfied, skipping upgrade: joblib>=0.11 in c:\\users\\sovann\\anaconda3\\lib\\site-packages (from scikit-learn->sentence-transformers) (0.14.1)\n",
      "Requirement already satisfied, skipping upgrade: requests in c:\\users\\sovann\\anaconda3\\lib\\site-packages (from transformers<5.0.0,>=4.6.0->sentence-transformers) (2.22.0)\n",
      "Requirement already satisfied, skipping upgrade: sacremoses in c:\\users\\sovann\\anaconda3\\lib\\site-packages (from transformers<5.0.0,>=4.6.0->sentence-transformers) (0.0.47)\n",
      "Requirement already satisfied, skipping upgrade: pyyaml>=5.1 in c:\\users\\sovann\\anaconda3\\lib\\site-packages (from transformers<5.0.0,>=4.6.0->sentence-transformers) (5.3)\n",
      "Requirement already satisfied, skipping upgrade: tokenizers!=0.11.3,>=0.11.1 in c:\\users\\sovann\\anaconda3\\lib\\site-packages (from transformers<5.0.0,>=4.6.0->sentence-transformers) (0.11.6)\n",
      "Requirement already satisfied, skipping upgrade: regex!=2019.12.17 in c:\\users\\sovann\\anaconda3\\lib\\site-packages (from transformers<5.0.0,>=4.6.0->sentence-transformers) (2022.3.2)\n",
      "Requirement already satisfied, skipping upgrade: filelock in c:\\users\\sovann\\anaconda3\\lib\\site-packages (from transformers<5.0.0,>=4.6.0->sentence-transformers) (3.0.12)\n",
      "Requirement already satisfied, skipping upgrade: importlib-metadata; python_version < \"3.8\" in c:\\users\\sovann\\anaconda3\\lib\\site-packages (from transformers<5.0.0,>=4.6.0->sentence-transformers) (1.5.0)\n",
      "Requirement already satisfied, skipping upgrade: packaging>=20.0 in c:\\users\\sovann\\anaconda3\\lib\\site-packages (from transformers<5.0.0,>=4.6.0->sentence-transformers) (20.1)\n",
      "Requirement already satisfied, skipping upgrade: six in c:\\users\\sovann\\anaconda3\\lib\\site-packages (from nltk->sentence-transformers) (1.14.0)\n",
      "Requirement already satisfied, skipping upgrade: pillow!=8.3.*,>=5.3.0 in c:\\users\\sovann\\anaconda3\\lib\\site-packages (from torchvision->sentence-transformers) (7.0.0)\n",
      "Requirement already satisfied, skipping upgrade: typing-extensions in c:\\users\\sovann\\anaconda3\\lib\\site-packages (from torchvision->sentence-transformers) (4.1.1)\n",
      "Requirement already satisfied, skipping upgrade: urllib3!=1.25.0,!=1.25.1,<1.26,>=1.21.1 in c:\\users\\sovann\\anaconda3\\lib\\site-packages (from requests->transformers<5.0.0,>=4.6.0->sentence-transformers) (1.25.8)\n",
      "Requirement already satisfied, skipping upgrade: certifi>=2017.4.17 in c:\\users\\sovann\\anaconda3\\lib\\site-packages (from requests->transformers<5.0.0,>=4.6.0->sentence-transformers) (2019.11.28)\n",
      "Requirement already satisfied, skipping upgrade: chardet<3.1.0,>=3.0.2 in c:\\users\\sovann\\anaconda3\\lib\\site-packages (from requests->transformers<5.0.0,>=4.6.0->sentence-transformers) (3.0.4)\n",
      "Requirement already satisfied, skipping upgrade: idna<2.9,>=2.5 in c:\\users\\sovann\\anaconda3\\lib\\site-packages (from requests->transformers<5.0.0,>=4.6.0->sentence-transformers) (2.8)\n",
      "Requirement already satisfied, skipping upgrade: click in c:\\users\\sovann\\anaconda3\\lib\\site-packages (from sacremoses->transformers<5.0.0,>=4.6.0->sentence-transformers) (7.0)\n",
      "Requirement already satisfied, skipping upgrade: zipp>=0.5 in c:\\users\\sovann\\anaconda3\\lib\\site-packages (from importlib-metadata; python_version < \"3.8\"->transformers<5.0.0,>=4.6.0->sentence-transformers) (2.2.0)\n",
      "Requirement already satisfied, skipping upgrade: pyparsing>=2.0.2 in c:\\users\\sovann\\anaconda3\\lib\\site-packages (from packaging>=20.0->transformers<5.0.0,>=4.6.0->sentence-transformers) (2.4.6)\n",
      "Note: you may need to restart the kernel to use updated packages.\n"
     ]
    }
   ],
   "source": [
    "%pip install -U sentence-transformers"
   ]
  },
  {
   "cell_type": "code",
   "execution_count": 1,
   "metadata": {},
   "outputs": [],
   "source": [
    "from sentence_transformers import SentenceTransformer"
   ]
  },
  {
   "cell_type": "code",
   "execution_count": 2,
   "metadata": {
    "scrolled": true
   },
   "outputs": [
    {
     "data": {
      "application/vnd.jupyter.widget-view+json": {
       "model_id": "eaa73eaab25141c1847f392ec7e9e0a8",
       "version_major": 2,
       "version_minor": 0
      },
      "text/plain": [
       "HBox(children=(FloatProgress(value=0.0, description='Downloading', max=736.0, style=ProgressStyle(description_…"
      ]
     },
     "metadata": {},
     "output_type": "display_data"
    },
    {
     "name": "stdout",
     "output_type": "stream",
     "text": [
      "\n"
     ]
    },
    {
     "data": {
      "application/vnd.jupyter.widget-view+json": {
       "model_id": "c72f212ae7594874abfd905b03ee9fa0",
       "version_major": 2,
       "version_minor": 0
      },
      "text/plain": [
       "HBox(children=(FloatProgress(value=0.0, description='Downloading', max=3683.0, style=ProgressStyle(description…"
      ]
     },
     "metadata": {},
     "output_type": "display_data"
    },
    {
     "name": "stdout",
     "output_type": "stream",
     "text": [
      "\n"
     ]
    },
    {
     "data": {
      "application/vnd.jupyter.widget-view+json": {
       "model_id": "58a2a4e1f4bc45f3bb0ef82f2cb5162c",
       "version_major": 2,
       "version_minor": 0
      },
      "text/plain": [
       "HBox(children=(FloatProgress(value=0.0, description='Downloading', max=627.0, style=ProgressStyle(description_…"
      ]
     },
     "metadata": {},
     "output_type": "display_data"
    },
    {
     "name": "stdout",
     "output_type": "stream",
     "text": [
      "\n"
     ]
    },
    {
     "data": {
      "application/vnd.jupyter.widget-view+json": {
       "model_id": "1f8bc9b4468d41c58aba8bccac95d66a",
       "version_major": 2,
       "version_minor": 0
      },
      "text/plain": [
       "HBox(children=(FloatProgress(value=0.0, description='Downloading', max=122.0, style=ProgressStyle(description_…"
      ]
     },
     "metadata": {},
     "output_type": "display_data"
    },
    {
     "name": "stdout",
     "output_type": "stream",
     "text": [
      "\n"
     ]
    },
    {
     "data": {
      "application/vnd.jupyter.widget-view+json": {
       "model_id": "c342d8911f3f495885eb4e99628f8ffe",
       "version_major": 2,
       "version_minor": 0
      },
      "text/plain": [
       "HBox(children=(FloatProgress(value=0.0, description='Downloading', max=229.0, style=ProgressStyle(description_…"
      ]
     },
     "metadata": {},
     "output_type": "display_data"
    },
    {
     "name": "stdout",
     "output_type": "stream",
     "text": [
      "\n"
     ]
    },
    {
     "data": {
      "application/vnd.jupyter.widget-view+json": {
       "model_id": "3e49036819c047739005befabac436a6",
       "version_major": 2,
       "version_minor": 0
      },
      "text/plain": [
       "HBox(children=(FloatProgress(value=0.0, description='Downloading', max=90895153.0, style=ProgressStyle(descrip…"
      ]
     },
     "metadata": {},
     "output_type": "display_data"
    },
    {
     "name": "stdout",
     "output_type": "stream",
     "text": [
      "\n"
     ]
    },
    {
     "data": {
      "application/vnd.jupyter.widget-view+json": {
       "model_id": "4a5ea2c3da384085a5ea031b73b571f3",
       "version_major": 2,
       "version_minor": 0
      },
      "text/plain": [
       "HBox(children=(FloatProgress(value=0.0, description='Downloading', max=53.0, style=ProgressStyle(description_w…"
      ]
     },
     "metadata": {},
     "output_type": "display_data"
    },
    {
     "name": "stdout",
     "output_type": "stream",
     "text": [
      "\n"
     ]
    },
    {
     "data": {
      "application/vnd.jupyter.widget-view+json": {
       "model_id": "670798cb483d4df8bf97ecaa56a0fa4a",
       "version_major": 2,
       "version_minor": 0
      },
      "text/plain": [
       "HBox(children=(FloatProgress(value=0.0, description='Downloading', max=112.0, style=ProgressStyle(description_…"
      ]
     },
     "metadata": {},
     "output_type": "display_data"
    },
    {
     "name": "stdout",
     "output_type": "stream",
     "text": [
      "\n"
     ]
    },
    {
     "data": {
      "application/vnd.jupyter.widget-view+json": {
       "model_id": "0fc9b003ab3045ea81103512779a8bea",
       "version_major": 2,
       "version_minor": 0
      },
      "text/plain": [
       "HBox(children=(FloatProgress(value=0.0, description='Downloading', max=466081.0, style=ProgressStyle(descripti…"
      ]
     },
     "metadata": {},
     "output_type": "display_data"
    },
    {
     "name": "stdout",
     "output_type": "stream",
     "text": [
      "\n"
     ]
    },
    {
     "data": {
      "application/vnd.jupyter.widget-view+json": {
       "model_id": "b35734d9296a4d5694de1e796ff4e863",
       "version_major": 2,
       "version_minor": 0
      },
      "text/plain": [
       "HBox(children=(FloatProgress(value=0.0, description='Downloading', max=430.0, style=ProgressStyle(description_…"
      ]
     },
     "metadata": {},
     "output_type": "display_data"
    },
    {
     "name": "stdout",
     "output_type": "stream",
     "text": [
      "\n"
     ]
    },
    {
     "data": {
      "application/vnd.jupyter.widget-view+json": {
       "model_id": "3f29d5629fdb4294b2ce4e8988718746",
       "version_major": 2,
       "version_minor": 0
      },
      "text/plain": [
       "HBox(children=(FloatProgress(value=0.0, description='Downloading', max=231508.0, style=ProgressStyle(descripti…"
      ]
     },
     "metadata": {},
     "output_type": "display_data"
    },
    {
     "name": "stdout",
     "output_type": "stream",
     "text": [
      "\n"
     ]
    },
    {
     "data": {
      "application/vnd.jupyter.widget-view+json": {
       "model_id": "5204c5eb0639437c9cbd6a6a9f9d20a5",
       "version_major": 2,
       "version_minor": 0
      },
      "text/plain": [
       "HBox(children=(FloatProgress(value=0.0, description='Downloading', max=190.0, style=ProgressStyle(description_…"
      ]
     },
     "metadata": {},
     "output_type": "display_data"
    },
    {
     "name": "stdout",
     "output_type": "stream",
     "text": [
      "\n"
     ]
    }
   ],
   "source": [
    "model = SentenceTransformer('sentence-transformers/msmarco-MiniLM-L-6-v3')"
   ]
  },
  {
   "cell_type": "markdown",
   "metadata": {},
   "source": [
    "END OF SETUP"
   ]
  },
  {
   "cell_type": "code",
   "execution_count": 3,
   "metadata": {},
   "outputs": [],
   "source": [
    "file = 'Test.txt'"
   ]
  },
  {
   "cell_type": "code",
   "execution_count": 7,
   "metadata": {},
   "outputs": [],
   "source": [
    "lines = open(file).read().splitlines()"
   ]
  },
  {
   "cell_type": "code",
   "execution_count": 43,
   "metadata": {},
   "outputs": [],
   "source": [
    "video_data = {}"
   ]
  },
  {
   "cell_type": "code",
   "execution_count": 45,
   "metadata": {},
   "outputs": [],
   "source": [
    "i = 0\n",
    "while i < len(lines):\n",
    "    video_data[(i//3)+1] = lines[i] + \" \" + lines[i+1]\n",
    "    i = i + 3"
   ]
  },
  {
   "cell_type": "code",
   "execution_count": 48,
   "metadata": {},
   "outputs": [],
   "source": [
    "embeddings = {}"
   ]
  },
  {
   "cell_type": "code",
   "execution_count": 51,
   "metadata": {},
   "outputs": [],
   "source": [
    "i = 1\n",
    "while i <= len(video_data):\n",
    "    embeddings[i] = model.encode(video_data[i])\n",
    "    i = i + 1"
   ]
  },
  {
   "cell_type": "code",
   "execution_count": 52,
   "metadata": {},
   "outputs": [
    {
     "data": {
      "text/plain": [
       "{1: array([-0.05324031,  0.26676944, -0.10613942, -0.18420157, -0.22145236,\n",
       "         0.20142928,  0.53452086,  0.12400375,  0.3791921 , -0.1494354 ,\n",
       "        -0.47824442, -0.05324   ,  0.17352079, -0.07411014, -0.4731887 ,\n",
       "        -0.31299368, -0.4605945 , -0.31570545,  0.2398141 , -0.8789445 ,\n",
       "         0.18049586, -0.10975392,  0.13055411, -0.2419066 , -0.0813137 ,\n",
       "         0.18474938,  0.16381682, -0.00811843,  0.1938962 , -0.5037192 ,\n",
       "         0.40561005, -0.28984722,  0.2663767 , -0.24501276,  0.12650672,\n",
       "         0.02905077, -0.31019   , -0.21150863,  0.16547379, -0.13293907,\n",
       "         0.08886532,  0.03649808,  0.34655225,  0.13679999, -0.11387141,\n",
       "        -0.24917464, -0.59136385, -0.76073223,  0.54726905,  0.52791226,\n",
       "        -0.73446286, -0.52673256, -0.09779356,  0.01248083,  0.18573911,\n",
       "        -0.40746975, -0.06268689,  0.02424474, -0.61934936, -0.02033113,\n",
       "        -0.9984556 , -0.5904104 ,  0.6574741 ,  0.2159764 ,  0.7606929 ,\n",
       "         0.17042726, -0.18736064, -0.00876139,  0.5800069 ,  0.22792262,\n",
       "        -0.24339285, -0.11549469,  0.20770836, -0.2754846 , -0.45594758,\n",
       "        -0.3134685 , -0.00134095,  0.1483666 , -0.31420967,  0.05530315,\n",
       "        -0.5473933 , -0.21798903, -0.20874614,  0.22348517,  0.519904  ,\n",
       "         0.12774634, -0.5721695 ,  0.13690989, -0.57465994, -0.07021578,\n",
       "        -0.09742822, -0.48090148, -0.2621077 ,  0.81634444, -0.1172183 ,\n",
       "         0.14517091,  0.34485334, -0.3820382 ,  0.7367843 ,  0.37974042,\n",
       "         0.2551764 ,  0.2529005 ,  0.6308365 ,  0.19474362,  0.22987434,\n",
       "        -0.36268443, -0.11643648, -0.11292093,  0.27270576, -0.48614883,\n",
       "         0.00968798, -0.00613506,  0.29164305,  0.38917214,  0.12129577,\n",
       "        -0.5400032 ,  0.31174752,  0.08104951, -0.12224046,  0.17859891,\n",
       "         0.16950996, -0.23659647,  0.12642288,  0.2566745 , -0.14645329,\n",
       "        -0.45071042,  0.1112878 , -0.22142278,  0.5324522 , -0.25719452,\n",
       "         0.08249949,  0.7595125 , -0.12885821,  0.17186962, -0.01562147,\n",
       "         0.51754254, -0.11509801, -0.4674131 , -0.07771964, -0.30692136,\n",
       "        -0.11594343, -0.01311906, -0.6531018 , -0.11805569, -0.8376498 ,\n",
       "         0.40512136, -0.5962003 ,  0.40401775,  0.2983039 , -0.48463637,\n",
       "         0.71578264, -0.28065577, -0.22539406, -0.26490408, -0.13245441,\n",
       "         0.20198146, -0.53300107,  0.21281911, -0.7142987 ,  0.24494497,\n",
       "        -0.32355824,  0.06811474, -0.4722945 , -0.4355963 , -0.42145553,\n",
       "         0.24201429,  0.02229769,  0.50848943, -0.33227664, -0.2305318 ,\n",
       "         0.8883702 , -0.29474056, -0.04745052, -0.3479188 , -0.42877504,\n",
       "         0.43005824,  0.516667  ,  0.36192086, -0.3332857 ,  0.35220993,\n",
       "        -0.07545971, -0.19232798,  0.2835982 ,  0.11302841,  0.18858081,\n",
       "         0.07756248,  0.18782842, -0.2104718 ,  0.26116824,  0.24595188,\n",
       "        -0.21890943,  0.2844398 , -0.32835734, -0.3552974 , -0.23784223,\n",
       "        -0.5282085 ,  0.5573514 , -0.3538035 , -1.0508226 , -0.1900277 ,\n",
       "         0.29314306, -0.13261546, -0.03681881,  0.04251671, -0.22005223,\n",
       "        -0.12973997,  0.23679855, -0.35056216,  0.74871314,  0.18471986,\n",
       "        -0.4944442 , -0.09725322, -0.55489343,  0.5687911 , -0.00344071,\n",
       "        -0.62499064, -0.3794602 , -0.20227247, -0.04458386,  0.33679974,\n",
       "        -0.10030955, -0.92658925,  0.44156623,  0.18110177, -0.39026043,\n",
       "         0.43503729, -0.4444975 , -0.7394254 ,  0.13711388, -0.31478804,\n",
       "         1.1614623 , -0.19756751,  0.4680628 ,  0.62192214,  0.40550232,\n",
       "         0.19904958, -1.02196   ,  0.18355726, -0.67899525, -0.02333793,\n",
       "        -0.12983344,  0.22263813, -0.07361409,  0.4192228 ,  0.25625682,\n",
       "         0.31505194, -0.69134873, -0.17496233, -0.18082766, -0.12264332,\n",
       "         0.25121996,  0.46308863,  0.3708575 , -0.19792956,  0.29976106,\n",
       "         0.08820875,  0.03070078, -0.33812922,  0.355615  ,  0.3099079 ,\n",
       "         0.56978387, -0.18073505, -0.20541188,  0.7399772 ,  0.11498164,\n",
       "         0.38788247,  0.01054457, -0.4504268 ,  0.2935756 ,  0.1991845 ,\n",
       "        -0.14537305, -0.11110105, -0.38702995,  0.5278428 , -0.1846043 ,\n",
       "        -0.09475215, -0.0158425 ,  0.30707294,  0.47053963, -0.580022  ,\n",
       "        -0.93892753, -0.00655967,  0.09358938,  0.25336823,  0.46468723,\n",
       "         0.06030757,  0.5916474 , -0.22742738, -0.42454115, -0.24546608,\n",
       "        -0.09523056,  0.20273876,  0.29266325,  0.59672165, -0.715226  ,\n",
       "        -0.23165798,  0.9377612 , -0.32921484,  0.42887953,  0.7385745 ,\n",
       "        -0.7096618 ,  0.03651986, -0.06761394,  0.12834519, -0.3558298 ,\n",
       "         0.3697046 ,  0.05016635,  0.5044826 ,  0.47223628, -0.06809354,\n",
       "         0.29380083, -0.05253725, -0.03057371,  0.24289855,  0.08686896,\n",
       "         0.23292518, -0.03203699, -0.1808464 , -0.08064404,  0.5192848 ,\n",
       "        -0.19600326, -1.155385  , -0.11272836, -0.23111403, -0.0369032 ,\n",
       "        -0.28060144, -0.59132254,  0.12920205, -0.6160865 , -0.72642493,\n",
       "        -0.06322516,  0.38772902, -0.4946106 ,  0.3771266 , -0.15108076,\n",
       "         0.49245897,  0.44863796,  0.26629013,  0.19444534, -0.16895276,\n",
       "         0.05994592, -0.3235784 , -0.63217235,  0.22196546, -0.11195076,\n",
       "         0.61025256,  0.38201421,  0.05436161, -0.33246794, -0.63722867,\n",
       "         0.2752808 ,  0.27999052, -0.05552487, -0.36438152,  0.9526635 ,\n",
       "         0.3926764 ,  0.01818433,  0.3207441 ,  0.10184385,  0.79972297,\n",
       "        -0.18965223, -0.12886259, -0.16197811, -0.12866326,  0.7952716 ,\n",
       "         0.5535409 , -0.4244681 , -0.3516404 ,  0.36887014, -0.00226551,\n",
       "         0.00275005, -0.31614304,  0.6637799 ,  0.4064381 ,  0.34564197,\n",
       "         0.3070709 ,  0.04865845, -0.13547203, -0.04942565,  0.06754178,\n",
       "         0.31058636,  1.1475656 ,  0.8211086 , -0.6116649 ], dtype=float32),\n",
       " 2: array([-0.30011293,  0.32168218, -0.2497607 , -0.10453047, -0.32689556,\n",
       "         0.6402583 ,  0.2083021 ,  0.22579704,  0.2095502 , -0.19379354,\n",
       "        -0.59643435,  0.013412  ,  0.2005995 ,  0.08804206, -0.07587437,\n",
       "        -0.45213574, -0.5301537 , -0.07824598,  0.27876854, -0.61472774,\n",
       "         0.38619143,  0.07578338,  0.20325887, -0.23170039,  0.14912657,\n",
       "         0.27492386,  0.07687774, -0.03435398,  0.39963788, -0.2566953 ,\n",
       "         0.52153504, -0.342086  , -0.29798877, -0.40737593,  0.2312877 ,\n",
       "        -0.20726569, -0.3460822 , -0.4072624 , -0.0668088 , -0.33867374,\n",
       "         0.01393359, -0.17623825,  0.46861324,  0.18050905, -0.39799792,\n",
       "         0.11424808, -0.35728946, -0.49458215,  0.21876125,  0.43953797,\n",
       "        -0.6742487 , -0.37637913, -0.1763479 ,  0.24359661,  0.29813096,\n",
       "        -0.71973705, -0.30629823,  0.07020228, -0.49382484, -0.22165602,\n",
       "        -0.47981352, -0.48299122,  0.7501407 , -0.05962945,  0.47975656,\n",
       "         0.29066622, -0.36393136,  0.08783939,  0.39771158,  0.5469864 ,\n",
       "        -0.7084407 ,  0.1624662 ,  0.1705108 , -0.17845969, -0.42791986,\n",
       "        -0.6162175 , -0.19064842, -0.14650218, -0.46023652,  0.05993922,\n",
       "        -0.6314847 , -0.6288102 , -0.41499832,  0.45739153,  0.18518569,\n",
       "         0.21510619, -0.4995023 ,  0.45486748, -0.58196265,  0.16118056,\n",
       "         0.404269  , -0.291658  , -0.112486  ,  0.6947367 , -0.16916852,\n",
       "         0.27014083,  0.01974481, -0.3396822 ,  0.772217  ,  0.19838214,\n",
       "         0.46033233,  0.23490596,  0.68307036,  0.11758792,  0.03109951,\n",
       "        -0.49328595,  0.05919664,  0.16271476,  0.2848957 , -0.6792969 ,\n",
       "        -0.47010738, -0.0813194 ,  0.3557076 ,  0.7564412 ,  0.00293494,\n",
       "        -0.05932902, -0.04164154, -0.01649718,  0.28134352, -0.12067536,\n",
       "         0.3116059 , -0.2896831 ,  0.17232025, -0.12743816, -0.35808808,\n",
       "        -0.5149798 ,  0.02973558, -0.48438692,  0.68058956, -0.1292397 ,\n",
       "        -0.03267606,  0.75890887, -0.184265  ,  0.31652838, -0.2442107 ,\n",
       "         0.6481991 , -0.14908016, -0.11764692,  0.02026972, -0.58383405,\n",
       "         0.01046298,  0.00750915, -0.43522003, -0.03400929, -0.52008814,\n",
       "         0.16780491, -0.35669336,  0.5486918 ,  0.29699272, -0.4507075 ,\n",
       "         0.5837663 ,  0.10137453, -0.09245628, -0.34422526,  0.08262741,\n",
       "         0.12960695, -1.0119687 ,  0.29329374, -0.6764372 ,  0.32439423,\n",
       "        -0.32391372,  0.1445837 , -0.20892969, -0.8776074 , -0.7548533 ,\n",
       "         0.368494  , -0.1301499 ,  0.54579395, -0.03130326, -0.25964463,\n",
       "         0.7302767 , -0.22216012,  0.41671088, -0.50753   , -0.27219892,\n",
       "         0.28837442,  0.47968906, -0.00417079,  0.196863  ,  0.44003126,\n",
       "         0.02047079, -0.5699578 ,  0.28495625,  0.32655296, -0.03211144,\n",
       "         0.14635144, -0.08192931, -0.11688752,  0.21145673,  0.46890986,\n",
       "         0.02279857,  0.15750198, -0.32142508, -0.03900535, -0.01952861,\n",
       "        -0.40958035,  0.42801207, -0.05440677, -1.1714168 , -0.10767663,\n",
       "         0.6827168 , -0.04927926,  0.02957598, -0.04973003, -0.26504645,\n",
       "        -0.34271553,  0.55596423, -0.21083537,  0.47805008,  0.04398498,\n",
       "        -0.25649142, -0.445539  , -0.6596648 ,  0.09308954, -0.22411995,\n",
       "        -0.76998603, -0.18106101, -0.05605515,  0.06707168,  0.10930918,\n",
       "        -0.4227815 , -0.75817776,  0.46605787,  0.23207852, -0.29801616,\n",
       "         0.40339118, -0.24729723, -0.5240308 ,  0.0615085 , -0.4294171 ,\n",
       "         1.0747734 ,  0.10873881,  1.0384315 ,  1.0503546 ,  0.6056066 ,\n",
       "         0.00617229, -0.6696672 , -0.11044963, -0.46342766,  0.13423207,\n",
       "        -0.23675615, -0.33072773, -0.01625653,  0.20906657,  0.6308966 ,\n",
       "         0.67198193, -0.18420726, -0.15420221, -0.06640159,  0.15660664,\n",
       "         0.3116548 ,  0.47713938,  0.40686202, -0.002386  ,  0.5232739 ,\n",
       "        -0.15127349, -0.31514993, -0.06597967,  0.16620226, -0.0395517 ,\n",
       "         0.5422278 , -0.17385869,  0.10290232,  0.520599  ,  0.43003505,\n",
       "         0.22746158,  0.06153264, -0.36565956,  0.1868316 ,  0.4590433 ,\n",
       "         0.5847115 , -0.15561478, -0.5489684 ,  0.67236507, -0.07037017,\n",
       "         0.13776374, -0.37518373,  0.5242124 ,  0.7534819 , -0.5764665 ,\n",
       "        -0.86396796,  0.172758  ,  0.3823034 ,  0.17611682,  0.4136    ,\n",
       "         0.0653463 ,  0.70398986, -0.33438718, -0.5899838 ,  0.1335127 ,\n",
       "        -0.05238833,  0.13052446,  0.52092236,  0.8419334 , -0.85024434,\n",
       "        -0.21984105,  0.7788385 , -0.38932827,  0.04788545,  0.76433104,\n",
       "        -1.1415371 ,  0.2561028 , -0.04031646,  0.04863527, -0.79740244,\n",
       "         0.46038055, -0.07727314,  0.2804775 ,  0.29880172, -0.12511776,\n",
       "         0.43310383,  0.41570598, -0.12422433, -0.2630174 , -0.09810166,\n",
       "        -0.10590053,  0.08098469, -0.05976328,  0.02607262,  0.6269633 ,\n",
       "        -0.06723569, -0.9248726 , -0.13150738, -0.28069574, -0.3361689 ,\n",
       "        -0.55982053, -0.63040656,  0.3135568 , -0.6383407 , -0.53924674,\n",
       "         0.04277096, -0.07930968, -0.38782847,  0.23114294,  0.00869447,\n",
       "         0.37514973,  0.60070777, -0.05908689,  0.08006598, -0.26396224,\n",
       "         0.2830963 , -0.26408508, -0.4191134 ,  0.36651155, -0.34614453,\n",
       "         0.51763064,  0.39193258, -0.17797826, -0.07771449, -0.43026775,\n",
       "         0.6205087 ,  0.23694372, -0.21697292, -0.51783985,  0.5215222 ,\n",
       "         0.04045954, -0.093163  , -0.03470935,  0.17719042,  0.7653417 ,\n",
       "        -0.16773565, -0.4499992 , -0.39536119,  0.05249644,  0.6844468 ,\n",
       "         0.3816818 , -0.35106766, -0.34103927, -0.12927754, -0.11895537,\n",
       "        -0.13811862, -0.21531954,  0.46292785,  0.38117802,  0.56740665,\n",
       "         0.06799231,  0.04845054, -0.31783357, -0.09684028,  0.07963453,\n",
       "        -0.04542059,  1.1380366 ,  0.70986533, -1.0976785 ], dtype=float32),\n",
       " 3: array([-2.39452243e-01,  2.72171259e-01, -5.68669975e-01, -1.58801362e-01,\n",
       "        -1.97502047e-01,  3.50059360e-01,  6.92734271e-02, -1.17637292e-01,\n",
       "         4.76582274e-02, -2.19866842e-01, -1.67025849e-02, -2.48743162e-01,\n",
       "         1.35364756e-01,  1.44396126e-01,  6.94460869e-02, -4.52839732e-01,\n",
       "        -5.55956602e-01, -3.96858454e-01,  2.79620171e-01, -7.69637048e-01,\n",
       "         8.90540406e-02, -6.54189363e-02,  3.27008545e-01, -2.20312789e-01,\n",
       "         2.98442900e-01,  2.71245509e-01,  2.17531115e-01, -3.30274165e-01,\n",
       "         5.10745645e-02, -2.60114968e-01,  1.95985734e-01, -3.20716649e-01,\n",
       "         1.98693618e-01, -7.11115837e-01,  3.32277894e-01, -6.83728158e-02,\n",
       "        -4.03854162e-01, -3.90892327e-01, -2.62225240e-01, -3.46435383e-02,\n",
       "         8.38613883e-02, -1.55860111e-02,  6.57395482e-01,  6.43254668e-02,\n",
       "        -1.74423590e-01, -4.65021655e-02, -7.17686355e-01, -5.11669576e-01,\n",
       "         2.01076075e-01,  5.32184899e-01, -9.30178583e-01, -4.92353320e-01,\n",
       "        -1.36801265e-02,  2.14838199e-02,  3.19005013e-01, -7.51267672e-01,\n",
       "         5.46383783e-02,  2.53204674e-01, -5.69601595e-01, -7.25476816e-03,\n",
       "        -4.02438283e-01, -5.08373797e-01,  7.52891064e-01, -2.41987854e-01,\n",
       "         5.30286610e-01,  4.21771288e-01, -3.41214359e-01, -1.14427447e-01,\n",
       "         2.18252435e-01,  3.61195326e-01, -4.04717088e-01,  1.82869017e-01,\n",
       "         1.65911525e-01, -7.09820688e-01, -1.71458930e-01, -3.29035640e-01,\n",
       "        -3.31234366e-01, -8.76126364e-02, -3.43701154e-01,  3.29607874e-01,\n",
       "        -3.81260514e-01, -2.28619158e-01, -4.08121645e-01,  1.98265463e-01,\n",
       "         1.06911346e-01,  3.12471725e-02, -5.84168971e-01,  9.24228579e-02,\n",
       "        -7.63741195e-01,  5.90296313e-02,  5.03772497e-01, -1.45424128e-01,\n",
       "        -4.33891952e-01,  8.01836848e-01, -1.67540923e-01,  7.24293649e-01,\n",
       "         4.49136384e-02, -2.96412170e-01,  4.74099010e-01,  6.86915517e-02,\n",
       "         5.57614446e-01,  4.96735014e-02,  6.25569403e-01,  4.72112559e-03,\n",
       "         9.92553458e-02, -2.52956778e-01, -1.71146467e-01, -1.03167817e-03,\n",
       "         2.28899926e-01, -6.75697327e-01, -3.07677627e-01, -2.57115662e-01,\n",
       "         3.69327545e-01,  4.03535753e-01, -1.76531762e-01, -9.72056314e-02,\n",
       "        -5.86562380e-02, -1.95645280e-02,  3.20740581e-01, -9.31263342e-02,\n",
       "         1.75412804e-01, -1.65776998e-01,  5.07892072e-01,  3.48493874e-01,\n",
       "        -3.73462141e-02, -6.96531892e-01,  3.06052379e-02, -2.39132255e-01,\n",
       "         7.56900609e-01, -1.28043815e-04, -1.88289329e-01,  8.15821767e-01,\n",
       "         9.16991532e-02,  2.90748384e-02, -1.88884869e-01,  4.44427609e-01,\n",
       "        -2.15350047e-01, -7.57675052e-01, -1.36406794e-01, -5.31333804e-01,\n",
       "         9.47794318e-02, -9.86934975e-02, -6.46580219e-01, -9.86726955e-02,\n",
       "        -6.08251929e-01,  1.50495321e-01, -6.37801707e-01,  2.13740811e-01,\n",
       "         2.25573793e-01, -5.49760461e-01,  5.78425944e-01, -1.67823657e-01,\n",
       "        -2.82294720e-01, -3.37410390e-01,  2.33171806e-02,  1.89827681e-02,\n",
       "        -8.16566229e-01,  1.82816386e-01, -5.25229752e-01,  3.07412267e-01,\n",
       "        -1.38575435e-01,  1.69725701e-01, -1.20405167e-01,  3.12946737e-02,\n",
       "        -6.14012182e-01,  4.73726779e-01, -1.03241302e-01,  6.96779966e-01,\n",
       "        -1.11324698e-01, -1.31799921e-01,  8.85890365e-01, -3.04587126e-01,\n",
       "         2.64828831e-01, -5.61241619e-03, -3.36881280e-01,  8.52094591e-02,\n",
       "         1.03492700e-01, -2.30358481e-01,  3.41496110e-01,  6.03865266e-01,\n",
       "         2.86391973e-01, -3.83760147e-02,  3.86469990e-01,  7.80394375e-02,\n",
       "        -1.41249839e-02,  2.03364015e-01,  2.20614225e-01, -2.12747708e-01,\n",
       "         4.71873313e-01,  2.97808498e-01,  1.94139004e-01,  3.20802242e-01,\n",
       "        -3.44349682e-01, -2.12443873e-01, -1.93811253e-01, -4.13984448e-01,\n",
       "         6.68701410e-01, -1.59648992e-03, -7.75155008e-01, -4.71312590e-02,\n",
       "         3.94204587e-01, -8.17661285e-02, -3.02809104e-02, -1.24800667e-01,\n",
       "        -6.59039855e-01, -2.69071221e-01,  5.26745737e-01,  1.03309616e-01,\n",
       "         4.95183438e-01,  2.19109744e-01, -3.91503453e-01, -4.06741440e-01,\n",
       "        -4.06356066e-01,  3.40752304e-02, -2.64884740e-01, -7.41517484e-01,\n",
       "        -5.79639375e-01, -5.97427972e-02, -1.18070729e-02,  5.02410412e-01,\n",
       "         1.06729791e-01, -1.19754875e+00,  6.18488729e-01,  7.29052499e-02,\n",
       "         2.74117798e-01,  3.81810039e-01,  2.08289623e-01, -8.02410185e-01,\n",
       "         1.12230666e-02, -4.91052419e-01,  1.08339047e+00,  2.31155865e-02,\n",
       "         8.01111698e-01,  9.77718651e-01,  4.51113641e-01, -9.42825899e-02,\n",
       "        -5.25925756e-01, -1.11069046e-01, -2.44557053e-01,  2.40802065e-01,\n",
       "        -2.99891263e-01, -3.43302518e-01,  8.37033242e-02,  3.62234533e-01,\n",
       "         6.78024173e-01, -7.39978477e-02, -9.43649054e-01,  8.37050825e-02,\n",
       "         3.02402116e-02, -5.14630824e-02,  3.45907450e-01,  1.93946466e-01,\n",
       "         4.55183923e-01, -3.14981431e-01,  4.15468961e-01, -3.59235704e-01,\n",
       "        -3.58967870e-01,  4.09052253e-01,  2.75786638e-01,  3.38308603e-01,\n",
       "         7.43712962e-01,  6.79755434e-02,  4.91027161e-02,  4.53845650e-01,\n",
       "         4.80252504e-01,  8.58406350e-02, -9.39797312e-02, -2.65703946e-02,\n",
       "         1.78293154e-01,  3.23151439e-01,  7.68734515e-01, -3.24213296e-01,\n",
       "        -6.44650519e-01,  6.68395519e-01,  8.02238658e-02,  5.42033538e-02,\n",
       "        -3.49968791e-01,  4.08084601e-01,  5.47048807e-01, -4.53366458e-01,\n",
       "        -9.29534078e-01,  1.39768749e-01,  7.84077868e-02,  5.24456650e-02,\n",
       "         3.43571484e-01, -4.52067591e-02,  8.73699427e-01, -3.32862854e-01,\n",
       "        -5.46559751e-01,  2.90813535e-01, -2.55388290e-01, -3.26944254e-02,\n",
       "         3.62722546e-01,  3.32332253e-01, -5.19968688e-01,  9.78300273e-02,\n",
       "         6.36100173e-01, -4.53952909e-01,  2.20986456e-01,  4.74979758e-01,\n",
       "        -9.65159714e-01,  7.02195525e-01,  1.56078339e-01, -1.71854526e-01,\n",
       "        -3.51010054e-01,  4.52429838e-02, -5.50853461e-03,  7.15043247e-01,\n",
       "         3.58475685e-01, -5.33838928e-01,  8.99622917e-01,  3.58827323e-01,\n",
       "        -1.00254580e-01, -3.84280384e-02, -1.03168622e-01,  1.68677509e-01,\n",
       "         2.28831731e-02,  9.09894332e-02,  8.70913342e-02,  4.42906529e-01,\n",
       "        -2.51838207e-01, -9.17594671e-01, -5.56251645e-01, -7.43078813e-02,\n",
       "        -8.18370581e-02, -3.31441551e-01, -3.17688733e-01,  2.01121375e-01,\n",
       "        -2.24832341e-01, -5.31448960e-01,  2.03705132e-01,  1.36248887e-01,\n",
       "        -5.22999763e-01,  3.49124596e-02, -8.58739913e-02,  1.50710821e-01,\n",
       "         2.00449109e-01, -1.90870799e-02,  2.29792356e-01,  8.42607468e-02,\n",
       "         3.08735192e-01,  1.77680731e-01, -5.10212362e-01,  1.83240116e-01,\n",
       "        -6.34776577e-02,  3.88035715e-01,  2.70424545e-01,  6.22027665e-02,\n",
       "         4.59797680e-03, -6.48221910e-01,  2.99224436e-01,  3.51904780e-01,\n",
       "        -6.92150176e-01, -3.69209141e-01,  6.44721150e-01,  9.66309309e-02,\n",
       "        -2.59644054e-02, -1.99491009e-02,  2.32890680e-01,  5.10384619e-01,\n",
       "         7.68477470e-03, -4.58732367e-01, -6.22899294e-01, -1.94110617e-01,\n",
       "         5.13644040e-01, -1.45312428e-01, -5.89641154e-01, -2.57145226e-01,\n",
       "        -1.50486231e-02,  2.86946386e-01, -5.19224882e-01,  1.66883677e-01,\n",
       "         4.11941141e-01,  3.80349070e-01,  4.25665259e-01,  5.57196736e-02,\n",
       "         4.07138735e-01, -1.08567767e-01, -3.16788435e-01,  1.89409748e-01,\n",
       "         5.18121064e-01,  1.03242743e+00,  8.51073742e-01, -6.08884513e-01],\n",
       "       dtype=float32)}"
      ]
     },
     "execution_count": 52,
     "metadata": {},
     "output_type": "execute_result"
    }
   ],
   "source": [
    "embeddings"
   ]
  }
 ],
 "metadata": {
  "kernelspec": {
   "display_name": "Python 3",
   "language": "python",
   "name": "python3"
  },
  "language_info": {
   "codemirror_mode": {
    "name": "ipython",
    "version": 3
   },
   "file_extension": ".py",
   "mimetype": "text/x-python",
   "name": "python",
   "nbconvert_exporter": "python",
   "pygments_lexer": "ipython3",
   "version": "3.7.6"
  }
 },
 "nbformat": 4,
 "nbformat_minor": 4
}
